{
 "cells": [
  {
   "cell_type": "code",
   "execution_count": null,
   "id": "88a623d8",
   "metadata": {},
   "outputs": [],
   "source": [
    "print(\"first cell - first line\")\n",
    "print(\"first cell - second line\")"
   ]
  },
  {
   "cell_type": "code",
   "execution_count": null,
   "id": "05b8a9cc",
   "metadata": {
    "lines_to_next_cell": 2
   },
   "outputs": [],
   "source": [
    "print(\"second cell - second line\")"
   ]
  }
 ],
 "metadata": {
  "jupytext": {
   "cell_metadata_filter": "-all",
   "main_language": "python",
   "notebook_metadata_filter": "-all"
  }
 },
 "nbformat": 4,
 "nbformat_minor": 5
}
