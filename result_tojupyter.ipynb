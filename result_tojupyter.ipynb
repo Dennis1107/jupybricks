{
 "cells": [
  {
   "cell_type": "code",
   "execution_count": null,
   "id": "d7cba311",
   "metadata": {},
   "outputs": [],
   "source": [
    "print(\"first cell - first line\")\n",
    "print(\"first cell - second line\")"
   ]
  },
  {
   "cell_type": "code",
   "execution_count": null,
   "id": "33526ea9",
   "metadata": {
    "lines_to_next_cell": 2
   },
   "outputs": [],
   "source": [
    "print(\"second cell - second line\")"
   ]
  }
 ],
 "metadata": {
  "jupytext": {
   "cell_metadata_filter": "-all",
   "main_language": "python",
   "notebook_metadata_filter": "-all"
  }
 },
 "nbformat": 4,
 "nbformat_minor": 5
}
