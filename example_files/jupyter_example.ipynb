{
 "cells": [
  {
   "cell_type": "code",
   "execution_count": null,
   "id": "25f6247d",
   "metadata": {},
   "outputs": [],
   "source": [
    "print(\"first cell - first line\")\n",
    "print(\"first cell - second line\")"
   ]
  },
  {
   "cell_type": "code",
   "execution_count": null,
   "id": "f944ee8c",
   "metadata": {},
   "outputs": [],
   "source": [
    "print(\"second cell - second line\")"
   ]
  }
 ],
 "metadata": {
  "jupytext": {
   "cell_metadata_filter": "-all",
   "main_language": "python",
   "notebook_metadata_filter": "-all"
  }
 },
 "nbformat": 4,
 "nbformat_minor": 5
}
